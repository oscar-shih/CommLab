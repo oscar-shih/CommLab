{
 "cells": [
  {
   "cell_type": "code",
   "execution_count": 59,
   "metadata": {},
   "outputs": [],
   "source": [
    "import qiskit\n",
    "from qiskit import IBMQ\n",
    "from qiskit.providers.ibmq import least_busy\n",
    "import numpy as np\n",
    "import random\n",
    "from random import sample\n",
    "\n",
    "import math\n",
    "from qiskit import *\n",
    "from qiskit import QuantumCircuit, execute, Aer\n",
    "from qiskit.visualization import plot_histogram, plot_bloch_multivector\n",
    "from math import sqrt, pi\n",
    "shots = 256"
   ]
  },
  {
   "cell_type": "code",
   "execution_count": 60,
   "metadata": {},
   "outputs": [
    {
     "name": "stdout",
     "output_type": "stream",
     "text": [
      "[1 0 0 1 1 0 0 0 0 0 1 1 0 1 0 1 1 1 0 0 0 0 1 1 0 1 1 1 0 1 0 0 1 1 1 0 1\n",
      " 1 0 1 1 1 1 0 1 1 1 0 1 0 0 0 1 1 0 0 1 0 0 0 0 1 1 1 0 0 0 0 1 0 1 0 1 0\n",
      " 1 0 0 1 0 0 1 0 1 0 1 1 0 0 1 0 1 0 0 0 0 0 0 1 1 0]\n",
      "Alice's first bit = 1\n"
     ]
    }
   ],
   "source": [
    "from numpy.random import randint\n",
    "qn = 100\n",
    "np.random.seed(seed=7777777)\n",
    "alice_bits = randint(2, size=qn)\n",
    "print(alice_bits)\n",
    "print(\"Alice's first bit = %i\" % alice_bits[0])"
   ]
  },
  {
   "cell_type": "code",
   "execution_count": 61,
   "metadata": {},
   "outputs": [
    {
     "name": "stdout",
     "output_type": "stream",
     "text": [
      "[0 1 0 0 0 0 0 1 0 0 0 1 0 1 0 1 1 0 0 1 0 1 1 1 0 1 1 1 1 0 1 0 0 1 0 0 0\n",
      " 0 1 1 1 1 0 0 0 0 0 1 1 1 1 1 1 1 1 1 0 0 0 1 1 0 0 0 0 0 1 0 0 1 1 0 1 0\n",
      " 1 1 0 1 1 1 1 1 0 0 1 1 0 0 0 1 0 1 1 0 1 0 0 1 1 1]\n",
      "Alice's first chosen basis = 0\n"
     ]
    }
   ],
   "source": [
    "def encode_message(bits, basis):\n",
    "    message = [QuantumCircuit(1,1) for i in range(qn)]\n",
    "    for i in range(qn):\n",
    "        if basis[i]:\n",
    "            if bits[i]:    \n",
    "                message[i].x(0)\n",
    "            else:\n",
    "                message[i].h(0)            \n",
    "        else:\n",
    "            if bits[i]:    \n",
    "                message[i].x(0)\n",
    "    return message\n",
    "\n",
    "alice_bases = randint(2, size=qn) \n",
    "message = encode_message(alice_bits, alice_bases) \n",
    "print(alice_bases)\n",
    "print(\"Alice's first chosen basis = %i\" % alice_bases[0])"
   ]
  },
  {
   "cell_type": "code",
   "execution_count": 62,
   "metadata": {},
   "outputs": [
    {
     "name": "stdout",
     "output_type": "stream",
     "text": [
      "[1 0 1 1 0 1 0 1 0 1 1 1 1 0 1 1 0 1 0 0 0 1 1 0 0 0 0 1 1 0 0 0 0 1 0 1 1\n",
      " 1 0 0 1 0 0 1 1 0 1 0 0 0 1 1 1 0 1 0 1 1 0 1 1 1 0 0 0 0 1 0 0 0 0 1 0 0\n",
      " 0 0 1 1 1 1 0 0 0 1 1 0 0 1 1 1 1 1 1 1 1 0 0 1 1 0]\n",
      "Eve's first chosen basis = 0\n",
      "[1, 1, 0, 0, 1, 0, 0, 0, 0, 1, 0, 1, 0, 1, 1, 1, 1, 0, 0, 1, 0, 0, 1, 1, 0, 0, 0, 1, 0, 1, 1, 0, 1, 1, 1, 1, 0, 1, 1, 1, 1, 0, 1, 0, 0, 1, 0, 0, 0, 1, 0, 0, 1, 0, 0, 1, 0, 0, 0, 0, 0, 1, 1, 1, 0, 0, 0, 0, 1, 0, 1, 0, 1, 0, 0, 0, 0, 1, 0, 0, 1, 1, 1, 1, 1, 0, 0, 1, 1, 0, 0, 0, 0, 0, 0, 0, 0, 1, 1, 0]\n",
      "Eve's first intercepted message = 1\n"
     ]
    }
   ],
   "source": [
    "def intercept_message(message, basis): \n",
    "    backend = Aer.get_backend('qasm_simulator') \n",
    "    measurements = [] \n",
    "    for q in range(qn):      \n",
    "        if basis[q]:\n",
    "            message[q].h(0) \n",
    "            message[q].measure(0, 0) \n",
    "        else:\n",
    "            message[q].measure(0, 0) \n",
    "        message[q].h(0)\n",
    "        result = execute(message[q], backend, shots=1, memory=True).result() \n",
    "        measured_bit = int(result.get_memory()[0]) \n",
    "        measurements.append(measured_bit)\n",
    "    return measurements\n",
    "\n",
    "\n",
    "eve_bases = randint(2, size=qn)\n",
    "intercepted_message = intercept_message(message, eve_bases)\n",
    "print(eve_bases)\n",
    "print(\"Eve's first chosen basis = %i\" % alice_bases[0])\n",
    "print(intercepted_message)\n",
    "print(\"Eve's first intercepted message = %i\" % intercepted_message[0])"
   ]
  },
  {
   "cell_type": "code",
   "execution_count": 63,
   "metadata": {},
   "outputs": [],
   "source": [
    "message = encode_message(intercepted_message, eve_bases)"
   ]
  },
  {
   "cell_type": "code",
   "execution_count": 64,
   "metadata": {},
   "outputs": [
    {
     "name": "stdout",
     "output_type": "stream",
     "text": [
      "[1, 1, 0, 0, 1, 0, 0, 0, 0, 0, 1, 1, 0, 1, 1, 1, 1, 0, 0, 0, 1, 1, 1, 0, 0, 1, 0, 1, 0, 1, 1, 1, 1, 1, 1, 1, 1, 1, 1, 1, 1, 0, 0, 0, 0, 1, 0, 0, 1, 1, 0, 0, 1, 1, 0, 0, 0, 1, 0, 1, 0, 1, 1, 1, 1, 0, 0, 1, 1, 0, 1, 1, 1, 1, 0, 1, 0, 1, 0, 0, 0, 1, 1, 0, 0, 0, 0, 1, 0, 0, 1, 0, 0, 0, 0, 0, 0, 0, 1, 0]\n",
      "Bob's first chosen basis = 1\n"
     ]
    }
   ],
   "source": [
    "def measure_message(message, basis):\n",
    "    backend = Aer.get_backend('qasm_simulator') \n",
    "    measurements = [] \n",
    "    for q in range(qn): \n",
    "        if basis[q]:\n",
    "            message[q].h(0) \n",
    "            message[q].measure(0, 0) \n",
    "        else:\n",
    "            message[q].measure(0, 0) \n",
    "        message[q].h(0)\n",
    "        result = execute(message[q], backend, shots=1, memory=True).result() \n",
    "        measured_bit = int(result.get_memory()[0]) \n",
    "        measurements.append(measured_bit)\n",
    "    return measurements\n",
    "\n",
    "bob_bases = randint(2, size=qn) \n",
    "bob_results = measure_message(message, bob_bases) \n",
    "print(bob_results)\n",
    "print(\"Bob's first chosen basis = %i\" % bob_bases[0])"
   ]
  },
  {
   "cell_type": "code",
   "execution_count": 65,
   "metadata": {},
   "outputs": [
    {
     "name": "stdout",
     "output_type": "stream",
     "text": [
      "[0, 0, 0, 1, 1, 1, 1, 0, 0, 1, 1, 1, 1, 1, 0, 1, 1, 1, 0, 1, 1, 1, 0, 0, 1, 1, 0, 0, 0, 0, 1, 0, 0, 1, 0, 1, 0, 1, 1, 0, 1, 0, 1, 0, 0, 0, 1]\n",
      "[0, 0, 0, 1, 1, 1, 1, 0, 0, 1, 0, 1, 0, 1, 0, 1, 1, 1, 1, 1, 1, 1, 0, 0, 1, 1, 0, 0, 1, 0, 1, 0, 1, 0, 1, 1, 0, 0, 1, 0, 0, 0, 1, 0, 0, 0, 1]\n"
     ]
    }
   ],
   "source": [
    "def remove_garbage(alice_bases, bob_bases, alice_bits):\n",
    "    return_key = []\n",
    "    for i in range(qn):\n",
    "        if alice_bases[i] == bob_bases[i]:\n",
    "            return_key.append(alice_bits[i])\n",
    "    return return_key\n",
    "\n",
    "alice_key = remove_garbage(alice_bases, bob_bases, alice_bits) \n",
    "bob_key = remove_garbage(alice_bases, bob_bases, bob_results) \n",
    "print(alice_key)\n",
    "print(bob_key)"
   ]
  },
  {
   "cell_type": "code",
   "execution_count": 66,
   "metadata": {},
   "outputs": [
    {
     "name": "stdout",
     "output_type": "stream",
     "text": [
      "Probability is  40.42553191489361 %\n"
     ]
    }
   ],
   "source": [
    "\n",
    "def calculate_possibility(alice_key, bob_key):\n",
    "    sum = 0\n",
    "    num = sample(range(len(alice_key)), len(alice_key) // 2)\n",
    "    for i in num:\n",
    "        sum += 1 if alice_key[i] == bob_key[i] else 0\n",
    "    return sum / len(alice_key)\n",
    "\n",
    "p = calculate_possibility(alice_key, bob_key)\n",
    "print(\"Probability is \" , p*100, \"%\")"
   ]
  },
  {
   "cell_type": "markdown",
   "metadata": {},
   "source": [
    "Question 3 - (b)"
   ]
  },
  {
   "cell_type": "code",
   "execution_count": 67,
   "metadata": {},
   "outputs": [
    {
     "name": "stdout",
     "output_type": "stream",
     "text": [
      "[1 0 0 0 0 1 1 1 1 0 0 1 0 0 1 0 0 0 1 1 1 1 0 1 0 1 1 1 0 1 1 1 1 1 0 0 1\n",
      " 0 0 0 1 1 1 1 0 0 0 1 1 1 1 0 0 0 1 0 1 1 0 1 0 1 1 0 0 1 0 0 0 0 1 0 1 1\n",
      " 1 1 1 0 1 1 1 1 0 0 0 0 0 1 1 1 0 1 0 0 1 0 0 1 1 1]\n",
      "Eve's first chosen basis = 0\n",
      "[0, 0, 1, 1, 0, 0, 0, 1, 1, 0, 1, 0, 0, 0, 0, 1, 1, 0, 1, 0, 0, 1, 1, 1, 1, 0, 1, 0, 0, 0, 0, 1, 0, 1, 0, 1, 0, 1, 0, 0, 0, 1, 0, 1, 0, 1, 0, 0, 0, 0, 1, 1, 1, 1, 1, 1, 1, 0, 0, 0, 0, 0, 0, 1, 0, 0, 0, 0, 1, 0, 0, 1, 1, 0, 0, 1, 1, 1, 0, 1, 0, 0, 1, 0, 1, 0, 0, 0, 1, 1, 1, 1, 0, 0, 1, 0, 1, 0, 1, 1]\n",
      "Eve's first intercepted message = 0\n",
      "Probability is 54.0 %\n"
     ]
    }
   ],
   "source": [
    "def intercept_message_Briedbart_basis(message, bases): \n",
    "    backend = Aer.get_backend('qasm_simulator') \n",
    "    measurements = [] \n",
    "    for q in range(qn):     \n",
    "        if bases[q]: \n",
    "            message[q].ry(pi*3/4, 0)\n",
    "            message[q].measure(0, 0) \n",
    "        else: \n",
    "            message[q].ry(-pi/4, 0)\n",
    "            message[q].measure(0, 0) \n",
    "        message[q].h(0) \n",
    "        result = execute(message[q], backend, shots=1, memory=True).result() \n",
    "        measured_bit = int(result.get_memory()[0]) \n",
    "        measurements.append(measured_bit)\n",
    "    return measurements\n",
    "\n",
    "eve_bases = randint(2, size=qn) \n",
    "intercepted_message = intercept_message_Briedbart_basis(message, eve_bases)\n",
    "print(eve_bases)\n",
    "print(\"Eve's first chosen basis = %i\" % alice_bases[0]) \n",
    "print(intercepted_message)\n",
    "print(\"Eve's first intercepted message = %i\" % intercepted_message[0])\n",
    "\n",
    "count = 0\n",
    "for i in range(qn):\n",
    "    count += 1 if intercepted_message[i] == alice_bits[i] else 0\n",
    "        \n",
    "p = count / len(alice_bits)\n",
    "print(\"Probability is\", p*100, \"%\")"
   ]
  }
 ],
 "metadata": {
  "interpreter": {
   "hash": "17e4da980a820e17b705871f2e376fc9dc64f010c668bb759dd42c1fe09e615c"
  },
  "kernelspec": {
   "display_name": "Python 3.10.4 ('qiskit')",
   "language": "python",
   "name": "python3"
  },
  "language_info": {
   "codemirror_mode": {
    "name": "ipython",
    "version": 3
   },
   "file_extension": ".py",
   "mimetype": "text/x-python",
   "name": "python",
   "nbconvert_exporter": "python",
   "pygments_lexer": "ipython3",
   "version": "3.10.4"
  },
  "orig_nbformat": 4
 },
 "nbformat": 4,
 "nbformat_minor": 2
}
